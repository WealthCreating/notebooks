{
 "cells": [
  {
   "cell_type": "markdown",
   "metadata": {},
   "source": [
    "# Introduction to Backtesting Algorithms\n",
    "## By: Carter Carlson\n",
    "### 2020.03.29\n",
    "\n",
    "### Concept\n",
    "When it comes to backtesting the performance of a rebalanced portfolio, there are several common questions that come into play.  \n",
    "\n",
    "NOTE: This notebook is purely an example of what to consider when generating your own backtests.\n",
    "\n",
    "Common questions include:\n",
    "* What do I use for my dataset?\n",
    "* How frequent should the algorithm trade?\n",
    "* What constitutes a long/short signal?\n",
    "* How should my portfolio be allocated during a long/short signal vs. a neutral position?\n",
    "    * If we remain neutral, should the algorithm still rebalance?\n",
    "    * How do I include fees?\n",
    "* How do I compare a rebalanced portfolio to a non-rebalanced portfolio?"
   ]
  },
  {
   "cell_type": "markdown",
   "metadata": {},
   "source": [
    "### What do I use for my dataset?"
   ]
  },
  {
   "cell_type": "markdown",
   "metadata": {},
   "source": [
    "For our backtests, we will be using hourly and daily Ethereum candlestick data."
   ]
  },
  {
   "cell_type": "code",
   "execution_count": 1,
   "metadata": {},
   "outputs": [
    {
     "name": "stdout",
     "output_type": "stream",
     "text": [
      "Start date: 2019-01-01 00:00:00\n",
      "End date: 2019-11-28 23:00:00\n"
     ]
    }
   ],
   "source": [
    "import warnings\n",
    "warnings.filterwarnings(\"ignore\")\n",
    "\n",
    "import pandas as pd\n",
    "\n",
    "eth_1h = pd.read_csv('../data/ETH.csv')\n",
    "\n",
    "print(f\"Start date: {eth_1h['date'].iat[0]}\")\n",
    "print(f\"End date: {eth_1h['date'].iat[-1]}\")"
   ]
  },
  {
   "cell_type": "code",
   "execution_count": 2,
   "metadata": {},
   "outputs": [
    {
     "data": {
      "text/html": [
       "<div>\n",
       "<style scoped>\n",
       "    .dataframe tbody tr th:only-of-type {\n",
       "        vertical-align: middle;\n",
       "    }\n",
       "\n",
       "    .dataframe tbody tr th {\n",
       "        vertical-align: top;\n",
       "    }\n",
       "\n",
       "    .dataframe thead th {\n",
       "        text-align: right;\n",
       "    }\n",
       "</style>\n",
       "<table border=\"1\" class=\"dataframe\">\n",
       "  <thead>\n",
       "    <tr style=\"text-align: right;\">\n",
       "      <th></th>\n",
       "      <th>date</th>\n",
       "      <th>open</th>\n",
       "      <th>high</th>\n",
       "      <th>low</th>\n",
       "      <th>close</th>\n",
       "      <th>volume</th>\n",
       "    </tr>\n",
       "  </thead>\n",
       "  <tbody>\n",
       "    <tr>\n",
       "      <th>0</th>\n",
       "      <td>2019-01-01 00:00:00</td>\n",
       "      <td>132.74</td>\n",
       "      <td>133.50</td>\n",
       "      <td>132.67</td>\n",
       "      <td>133.36</td>\n",
       "      <td>6204.28401</td>\n",
       "    </tr>\n",
       "    <tr>\n",
       "      <th>1</th>\n",
       "      <td>2019-01-01 01:00:00</td>\n",
       "      <td>133.36</td>\n",
       "      <td>134.30</td>\n",
       "      <td>133.01</td>\n",
       "      <td>133.56</td>\n",
       "      <td>10214.95098</td>\n",
       "    </tr>\n",
       "    <tr>\n",
       "      <th>2</th>\n",
       "      <td>2019-01-01 02:00:00</td>\n",
       "      <td>133.56</td>\n",
       "      <td>135.30</td>\n",
       "      <td>133.19</td>\n",
       "      <td>134.52</td>\n",
       "      <td>16342.20664</td>\n",
       "    </tr>\n",
       "    <tr>\n",
       "      <th>3</th>\n",
       "      <td>2019-01-01 03:00:00</td>\n",
       "      <td>134.55</td>\n",
       "      <td>134.78</td>\n",
       "      <td>133.55</td>\n",
       "      <td>133.70</td>\n",
       "      <td>14895.35710</td>\n",
       "    </tr>\n",
       "    <tr>\n",
       "      <th>4</th>\n",
       "      <td>2019-01-01 04:00:00</td>\n",
       "      <td>133.72</td>\n",
       "      <td>134.14</td>\n",
       "      <td>133.66</td>\n",
       "      <td>133.86</td>\n",
       "      <td>6388.10191</td>\n",
       "    </tr>\n",
       "  </tbody>\n",
       "</table>\n",
       "</div>"
      ],
      "text/plain": [
       "                  date    open    high     low   close       volume\n",
       "0  2019-01-01 00:00:00  132.74  133.50  132.67  133.36   6204.28401\n",
       "1  2019-01-01 01:00:00  133.36  134.30  133.01  133.56  10214.95098\n",
       "2  2019-01-01 02:00:00  133.56  135.30  133.19  134.52  16342.20664\n",
       "3  2019-01-01 03:00:00  134.55  134.78  133.55  133.70  14895.35710\n",
       "4  2019-01-01 04:00:00  133.72  134.14  133.66  133.86   6388.10191"
      ]
     },
     "execution_count": 2,
     "metadata": {},
     "output_type": "execute_result"
    }
   ],
   "source": [
    "eth_1h.head()"
   ]
  },
  {
   "cell_type": "code",
   "execution_count": 3,
   "metadata": {},
   "outputs": [
    {
     "data": {
      "text/html": [
       "<div>\n",
       "<style scoped>\n",
       "    .dataframe tbody tr th:only-of-type {\n",
       "        vertical-align: middle;\n",
       "    }\n",
       "\n",
       "    .dataframe tbody tr th {\n",
       "        vertical-align: top;\n",
       "    }\n",
       "\n",
       "    .dataframe thead th {\n",
       "        text-align: right;\n",
       "    }\n",
       "</style>\n",
       "<table border=\"1\" class=\"dataframe\">\n",
       "  <thead>\n",
       "    <tr style=\"text-align: right;\">\n",
       "      <th></th>\n",
       "      <th>date</th>\n",
       "      <th>open</th>\n",
       "      <th>high</th>\n",
       "      <th>low</th>\n",
       "      <th>close</th>\n",
       "      <th>volume</th>\n",
       "    </tr>\n",
       "  </thead>\n",
       "  <tbody>\n",
       "    <tr>\n",
       "      <th>0</th>\n",
       "      <td>2019-01-01 00:00:00</td>\n",
       "      <td>132.74</td>\n",
       "      <td>140.67</td>\n",
       "      <td>131.00</td>\n",
       "      <td>138.99</td>\n",
       "      <td>4.151021e+05</td>\n",
       "    </tr>\n",
       "    <tr>\n",
       "      <th>1</th>\n",
       "      <td>2019-01-02 00:00:00</td>\n",
       "      <td>138.91</td>\n",
       "      <td>155.37</td>\n",
       "      <td>138.30</td>\n",
       "      <td>151.93</td>\n",
       "      <td>1.018141e+06</td>\n",
       "    </tr>\n",
       "    <tr>\n",
       "      <th>2</th>\n",
       "      <td>2019-01-03 00:00:00</td>\n",
       "      <td>151.78</td>\n",
       "      <td>154.20</td>\n",
       "      <td>143.11</td>\n",
       "      <td>153.33</td>\n",
       "      <td>7.381434e+05</td>\n",
       "    </tr>\n",
       "    <tr>\n",
       "      <th>3</th>\n",
       "      <td>2019-01-04 00:00:00</td>\n",
       "      <td>153.11</td>\n",
       "      <td>159.26</td>\n",
       "      <td>144.66</td>\n",
       "      <td>154.51</td>\n",
       "      <td>8.914434e+05</td>\n",
       "    </tr>\n",
       "    <tr>\n",
       "      <th>4</th>\n",
       "      <td>2019-01-05 00:00:00</td>\n",
       "      <td>157.70</td>\n",
       "      <td>157.80</td>\n",
       "      <td>147.51</td>\n",
       "      <td>150.47</td>\n",
       "      <td>6.645218e+05</td>\n",
       "    </tr>\n",
       "  </tbody>\n",
       "</table>\n",
       "</div>"
      ],
      "text/plain": [
       "                  date    open    high     low   close        volume\n",
       "0  2019-01-01 00:00:00  132.74  140.67  131.00  138.99  4.151021e+05\n",
       "1  2019-01-02 00:00:00  138.91  155.37  138.30  151.93  1.018141e+06\n",
       "2  2019-01-03 00:00:00  151.78  154.20  143.11  153.33  7.381434e+05\n",
       "3  2019-01-04 00:00:00  153.11  159.26  144.66  154.51  8.914434e+05\n",
       "4  2019-01-05 00:00:00  157.70  157.80  147.51  150.47  6.645218e+05"
      ]
     },
     "execution_count": 3,
     "metadata": {},
     "output_type": "execute_result"
    }
   ],
   "source": [
    "# Group ETH into 1d candles\n",
    "# https://pypi.org/project/TAcharts\n",
    "from TAcharts.utils import group_candles\n",
    "\n",
    "eth_1d = group_candles(eth_1h, n=24)\n",
    "eth_1d.head()"
   ]
  },
  {
   "cell_type": "markdown",
   "metadata": {},
   "source": [
    "## How frequent should the algorithm trade?\n",
    "\n",
    "For our example, we want our algorithm to trade once/week on the same hour.  Instead of picking an arbitrary time to rebalance on, let's find:\n",
    "* The day with the lowest price volatility\n",
    "* On that day, the hour with the lowest price volatility\n",
    "\n",
    "From this, we can have our algorithm rebalance at a time where price is most constant.\n",
    "\n",
    "### Daily Volatility"
   ]
  },
  {
   "cell_type": "code",
   "execution_count": 4,
   "metadata": {},
   "outputs": [],
   "source": [
    "def calc_pct_change(high, low, _open):\n",
    "    return (high - low) / _open"
   ]
  },
  {
   "cell_type": "code",
   "execution_count": 5,
   "metadata": {},
   "outputs": [
    {
     "name": "stdout",
     "output_type": "stream",
     "text": [
      "weekday\n",
      "Tuesday      0.070740\n",
      "Wednesday    0.066079\n",
      "Sunday       0.063304\n",
      "Monday       0.062416\n",
      "Friday       0.061621\n",
      "Thursday     0.059621\n",
      "Saturday     0.052946\n",
      "Name: pct_change, dtype: float64\n"
     ]
    }
   ],
   "source": [
    "eth_1d['pct_change'] = calc_pct_change(eth_1d['high'], eth_1d['low'], eth_1d['open'])\n",
    "eth_1d['weekday'] = pd.DatetimeIndex(eth_1d['date']).day_name()\n",
    "\n",
    "daily_volatility = eth_1d.groupby('weekday')['pct_change'].mean().sort_values(ascending=False)\n",
    "print(daily_volatility)"
   ]
  },
  {
   "cell_type": "markdown",
   "metadata": {},
   "source": [
    "#### Conclusion: Saturday has the lowest average daily volatility"
   ]
  },
  {
   "cell_type": "markdown",
   "metadata": {},
   "source": [
    "### Hourly Volatility"
   ]
  },
  {
   "cell_type": "code",
   "execution_count": 6,
   "metadata": {},
   "outputs": [
    {
     "name": "stdout",
     "output_type": "stream",
     "text": [
      "hour\n",
      "11    0.015472\n",
      "19    0.014008\n",
      "10    0.013859\n",
      "9     0.013478\n",
      "18    0.013072\n",
      "17    0.012644\n",
      "8     0.012570\n",
      "15    0.012349\n",
      "7     0.012239\n",
      "16    0.011714\n",
      "5     0.011542\n",
      "12    0.011506\n",
      "4     0.011314\n",
      "3     0.011192\n",
      "6     0.011139\n",
      "14    0.010986\n",
      "20    0.010895\n",
      "13    0.010425\n",
      "23    0.010207\n",
      "22    0.010100\n",
      "21    0.010055\n",
      "2     0.010032\n",
      "0     0.009698\n",
      "1     0.009190\n",
      "Name: pct_change, dtype: float64\n"
     ]
    }
   ],
   "source": [
    "eth_1h['pct_change'] = calc_pct_change(eth_1h['high'], eth_1h['low'], eth_1h['open'])\n",
    "eth_1h['hour'] = pd.DatetimeIndex(eth_1h['date']).hour\n",
    "\n",
    "# Only take volatility from Saturday\n",
    "eth_1h_saturday = eth_1h[pd.DatetimeIndex(eth_1h['date']).day_name() == 'Saturday']\n",
    "\n",
    "hourly_volatility = eth_1h.groupby('hour')['pct_change'].mean().sort_values(ascending=False)\n",
    "print(hourly_volatility)"
   ]
  },
  {
   "cell_type": "markdown",
   "metadata": {},
   "source": [
    "#### Conclusion: on Saturday, hour 1 has the lowest average volatility."
   ]
  },
  {
   "cell_type": "code",
   "execution_count": 7,
   "metadata": {},
   "outputs": [],
   "source": [
    "# Add boolean value to rebalance based on weekday and hour with least volatility\n",
    "\n",
    "is_weekday = pd.DatetimeIndex(eth_1h['date']).day_name() == 'Saturday'\n",
    "is_hour = pd.to_datetime(eth_1h['date']).apply(lambda x: x.hour == 1 and x.minute == 0)\n",
    "\n",
    "eth_1h['rebalance'] = is_weekday & is_hour"
   ]
  },
  {
   "cell_type": "markdown",
   "metadata": {},
   "source": [
    "## What constitutes a long/short signal?\n",
    "For our example, let's use the 50, 100, and 200 hour moving averages for our signals.  Typically, if you have moving averages of different time intervals in stacked order, you'll find support or resistance at the longer moving averages.  So, if the 50-hour moving average is above the 100-hour moving average, and the 100-hour moving average is above the 200-hour moving average, we have bullish support.  Similarly, we can determine bearish resistance looking at the opposite relationship between moving averages."
   ]
  },
  {
   "cell_type": "code",
   "execution_count": 8,
   "metadata": {
    "scrolled": true
   },
   "outputs": [
    {
     "data": {
      "text/html": [
       "<div>\n",
       "<style scoped>\n",
       "    .dataframe tbody tr th:only-of-type {\n",
       "        vertical-align: middle;\n",
       "    }\n",
       "\n",
       "    .dataframe tbody tr th {\n",
       "        vertical-align: top;\n",
       "    }\n",
       "\n",
       "    .dataframe thead th {\n",
       "        text-align: right;\n",
       "    }\n",
       "</style>\n",
       "<table border=\"1\" class=\"dataframe\">\n",
       "  <thead>\n",
       "    <tr style=\"text-align: right;\">\n",
       "      <th></th>\n",
       "      <th>date</th>\n",
       "      <th>signal</th>\n",
       "    </tr>\n",
       "  </thead>\n",
       "  <tbody>\n",
       "    <tr>\n",
       "      <th>97</th>\n",
       "      <td>2019-01-05 01:00:00</td>\n",
       "      <td>neutral</td>\n",
       "    </tr>\n",
       "    <tr>\n",
       "      <th>265</th>\n",
       "      <td>2019-01-12 01:00:00</td>\n",
       "      <td>bear</td>\n",
       "    </tr>\n",
       "    <tr>\n",
       "      <th>433</th>\n",
       "      <td>2019-01-19 01:00:00</td>\n",
       "      <td>bear</td>\n",
       "    </tr>\n",
       "    <tr>\n",
       "      <th>601</th>\n",
       "      <td>2019-01-26 01:00:00</td>\n",
       "      <td>bear</td>\n",
       "    </tr>\n",
       "    <tr>\n",
       "      <th>769</th>\n",
       "      <td>2019-02-02 01:00:00</td>\n",
       "      <td>neutral</td>\n",
       "    </tr>\n",
       "    <tr>\n",
       "      <th>937</th>\n",
       "      <td>2019-02-09 01:00:00</td>\n",
       "      <td>bull</td>\n",
       "    </tr>\n",
       "    <tr>\n",
       "      <th>1105</th>\n",
       "      <td>2019-02-16 01:00:00</td>\n",
       "      <td>neutral</td>\n",
       "    </tr>\n",
       "    <tr>\n",
       "      <th>1273</th>\n",
       "      <td>2019-02-23 01:00:00</td>\n",
       "      <td>bull</td>\n",
       "    </tr>\n",
       "    <tr>\n",
       "      <th>1441</th>\n",
       "      <td>2019-03-02 01:00:00</td>\n",
       "      <td>bear</td>\n",
       "    </tr>\n",
       "    <tr>\n",
       "      <th>1609</th>\n",
       "      <td>2019-03-09 01:00:00</td>\n",
       "      <td>bull</td>\n",
       "    </tr>\n",
       "    <tr>\n",
       "      <th>1770</th>\n",
       "      <td>2019-03-16 01:00:00</td>\n",
       "      <td>neutral</td>\n",
       "    </tr>\n",
       "    <tr>\n",
       "      <th>1938</th>\n",
       "      <td>2019-03-23 01:00:00</td>\n",
       "      <td>bear</td>\n",
       "    </tr>\n",
       "    <tr>\n",
       "      <th>2106</th>\n",
       "      <td>2019-03-30 01:00:00</td>\n",
       "      <td>bull</td>\n",
       "    </tr>\n",
       "    <tr>\n",
       "      <th>2274</th>\n",
       "      <td>2019-04-06 01:00:00</td>\n",
       "      <td>neutral</td>\n",
       "    </tr>\n",
       "    <tr>\n",
       "      <th>2442</th>\n",
       "      <td>2019-04-13 01:00:00</td>\n",
       "      <td>neutral</td>\n",
       "    </tr>\n",
       "    <tr>\n",
       "      <th>2610</th>\n",
       "      <td>2019-04-20 01:00:00</td>\n",
       "      <td>bull</td>\n",
       "    </tr>\n",
       "    <tr>\n",
       "      <th>2778</th>\n",
       "      <td>2019-04-27 01:00:00</td>\n",
       "      <td>bear</td>\n",
       "    </tr>\n",
       "    <tr>\n",
       "      <th>2946</th>\n",
       "      <td>2019-05-04 01:00:00</td>\n",
       "      <td>bull</td>\n",
       "    </tr>\n",
       "    <tr>\n",
       "      <th>3114</th>\n",
       "      <td>2019-05-11 01:00:00</td>\n",
       "      <td>neutral</td>\n",
       "    </tr>\n",
       "    <tr>\n",
       "      <th>3272</th>\n",
       "      <td>2019-05-18 01:00:00</td>\n",
       "      <td>bull</td>\n",
       "    </tr>\n",
       "    <tr>\n",
       "      <th>3440</th>\n",
       "      <td>2019-05-25 01:00:00</td>\n",
       "      <td>neutral</td>\n",
       "    </tr>\n",
       "    <tr>\n",
       "      <th>3608</th>\n",
       "      <td>2019-06-01 01:00:00</td>\n",
       "      <td>neutral</td>\n",
       "    </tr>\n",
       "    <tr>\n",
       "      <th>3776</th>\n",
       "      <td>2019-06-08 01:00:00</td>\n",
       "      <td>neutral</td>\n",
       "    </tr>\n",
       "    <tr>\n",
       "      <th>3944</th>\n",
       "      <td>2019-06-15 01:00:00</td>\n",
       "      <td>bull</td>\n",
       "    </tr>\n",
       "    <tr>\n",
       "      <th>4112</th>\n",
       "      <td>2019-06-22 01:00:00</td>\n",
       "      <td>bull</td>\n",
       "    </tr>\n",
       "    <tr>\n",
       "      <th>4280</th>\n",
       "      <td>2019-06-29 01:00:00</td>\n",
       "      <td>neutral</td>\n",
       "    </tr>\n",
       "    <tr>\n",
       "      <th>4448</th>\n",
       "      <td>2019-07-06 01:00:00</td>\n",
       "      <td>neutral</td>\n",
       "    </tr>\n",
       "    <tr>\n",
       "      <th>4616</th>\n",
       "      <td>2019-07-13 01:00:00</td>\n",
       "      <td>bear</td>\n",
       "    </tr>\n",
       "    <tr>\n",
       "      <th>4784</th>\n",
       "      <td>2019-07-20 01:00:00</td>\n",
       "      <td>neutral</td>\n",
       "    </tr>\n",
       "    <tr>\n",
       "      <th>4952</th>\n",
       "      <td>2019-07-27 01:00:00</td>\n",
       "      <td>neutral</td>\n",
       "    </tr>\n",
       "    <tr>\n",
       "      <th>5120</th>\n",
       "      <td>2019-08-03 01:00:00</td>\n",
       "      <td>bull</td>\n",
       "    </tr>\n",
       "    <tr>\n",
       "      <th>5288</th>\n",
       "      <td>2019-08-10 01:00:00</td>\n",
       "      <td>bear</td>\n",
       "    </tr>\n",
       "    <tr>\n",
       "      <th>5448</th>\n",
       "      <td>2019-08-17 01:00:00</td>\n",
       "      <td>bear</td>\n",
       "    </tr>\n",
       "    <tr>\n",
       "      <th>5616</th>\n",
       "      <td>2019-08-24 01:00:00</td>\n",
       "      <td>neutral</td>\n",
       "    </tr>\n",
       "    <tr>\n",
       "      <th>5784</th>\n",
       "      <td>2019-08-31 01:00:00</td>\n",
       "      <td>bear</td>\n",
       "    </tr>\n",
       "    <tr>\n",
       "      <th>5952</th>\n",
       "      <td>2019-09-07 01:00:00</td>\n",
       "      <td>neutral</td>\n",
       "    </tr>\n",
       "    <tr>\n",
       "      <th>6120</th>\n",
       "      <td>2019-09-14 01:00:00</td>\n",
       "      <td>bull</td>\n",
       "    </tr>\n",
       "    <tr>\n",
       "      <th>6288</th>\n",
       "      <td>2019-09-21 01:00:00</td>\n",
       "      <td>bull</td>\n",
       "    </tr>\n",
       "    <tr>\n",
       "      <th>6456</th>\n",
       "      <td>2019-09-28 01:00:00</td>\n",
       "      <td>bear</td>\n",
       "    </tr>\n",
       "    <tr>\n",
       "      <th>6624</th>\n",
       "      <td>2019-10-05 01:00:00</td>\n",
       "      <td>neutral</td>\n",
       "    </tr>\n",
       "    <tr>\n",
       "      <th>6792</th>\n",
       "      <td>2019-10-12 01:00:00</td>\n",
       "      <td>bull</td>\n",
       "    </tr>\n",
       "    <tr>\n",
       "      <th>6960</th>\n",
       "      <td>2019-10-19 01:00:00</td>\n",
       "      <td>bear</td>\n",
       "    </tr>\n",
       "    <tr>\n",
       "      <th>7128</th>\n",
       "      <td>2019-10-26 01:00:00</td>\n",
       "      <td>neutral</td>\n",
       "    </tr>\n",
       "    <tr>\n",
       "      <th>7296</th>\n",
       "      <td>2019-11-02 01:00:00</td>\n",
       "      <td>neutral</td>\n",
       "    </tr>\n",
       "    <tr>\n",
       "      <th>7465</th>\n",
       "      <td>2019-11-09 01:00:00</td>\n",
       "      <td>neutral</td>\n",
       "    </tr>\n",
       "    <tr>\n",
       "      <th>7631</th>\n",
       "      <td>2019-11-16 01:00:00</td>\n",
       "      <td>bear</td>\n",
       "    </tr>\n",
       "    <tr>\n",
       "      <th>7799</th>\n",
       "      <td>2019-11-23 01:00:00</td>\n",
       "      <td>bear</td>\n",
       "    </tr>\n",
       "  </tbody>\n",
       "</table>\n",
       "</div>"
      ],
      "text/plain": [
       "                     date   signal\n",
       "97    2019-01-05 01:00:00  neutral\n",
       "265   2019-01-12 01:00:00     bear\n",
       "433   2019-01-19 01:00:00     bear\n",
       "601   2019-01-26 01:00:00     bear\n",
       "769   2019-02-02 01:00:00  neutral\n",
       "937   2019-02-09 01:00:00     bull\n",
       "1105  2019-02-16 01:00:00  neutral\n",
       "1273  2019-02-23 01:00:00     bull\n",
       "1441  2019-03-02 01:00:00     bear\n",
       "1609  2019-03-09 01:00:00     bull\n",
       "1770  2019-03-16 01:00:00  neutral\n",
       "1938  2019-03-23 01:00:00     bear\n",
       "2106  2019-03-30 01:00:00     bull\n",
       "2274  2019-04-06 01:00:00  neutral\n",
       "2442  2019-04-13 01:00:00  neutral\n",
       "2610  2019-04-20 01:00:00     bull\n",
       "2778  2019-04-27 01:00:00     bear\n",
       "2946  2019-05-04 01:00:00     bull\n",
       "3114  2019-05-11 01:00:00  neutral\n",
       "3272  2019-05-18 01:00:00     bull\n",
       "3440  2019-05-25 01:00:00  neutral\n",
       "3608  2019-06-01 01:00:00  neutral\n",
       "3776  2019-06-08 01:00:00  neutral\n",
       "3944  2019-06-15 01:00:00     bull\n",
       "4112  2019-06-22 01:00:00     bull\n",
       "4280  2019-06-29 01:00:00  neutral\n",
       "4448  2019-07-06 01:00:00  neutral\n",
       "4616  2019-07-13 01:00:00     bear\n",
       "4784  2019-07-20 01:00:00  neutral\n",
       "4952  2019-07-27 01:00:00  neutral\n",
       "5120  2019-08-03 01:00:00     bull\n",
       "5288  2019-08-10 01:00:00     bear\n",
       "5448  2019-08-17 01:00:00     bear\n",
       "5616  2019-08-24 01:00:00  neutral\n",
       "5784  2019-08-31 01:00:00     bear\n",
       "5952  2019-09-07 01:00:00  neutral\n",
       "6120  2019-09-14 01:00:00     bull\n",
       "6288  2019-09-21 01:00:00     bull\n",
       "6456  2019-09-28 01:00:00     bear\n",
       "6624  2019-10-05 01:00:00  neutral\n",
       "6792  2019-10-12 01:00:00     bull\n",
       "6960  2019-10-19 01:00:00     bear\n",
       "7128  2019-10-26 01:00:00  neutral\n",
       "7296  2019-11-02 01:00:00  neutral\n",
       "7465  2019-11-09 01:00:00  neutral\n",
       "7631  2019-11-16 01:00:00     bear\n",
       "7799  2019-11-23 01:00:00     bear"
      ]
     },
     "execution_count": 8,
     "metadata": {},
     "output_type": "execute_result"
    }
   ],
   "source": [
    "from TAcharts.indicators import sma\n",
    "\n",
    "sma_200 = sma(eth_1h['close'], n=200)\n",
    "sma_100 = sma(eth_1h['close'], n=100)\n",
    "sma_50 = sma(eth_1h['close'], n=50)\n",
    "\n",
    "bullish = (sma_50 > sma_100) & (sma_100 > sma_200)\n",
    "bearish = (sma_50 < sma_100) & (sma_100 < sma_200)\n",
    "\n",
    "eth_1h['signal'] = ['bull' if bullish[i] else 'bear' if bearish[i] else 'neutral' for i in range(len(eth_1h))]\n",
    "\n",
    "# Dates of rebalance and signal\n",
    "rebalance_dates_signals = eth_1h[['date', 'signal']].loc[eth_1h['rebalance']]\n",
    "rebalance_dates_signals"
   ]
  },
  {
   "cell_type": "code",
   "execution_count": 9,
   "metadata": {},
   "outputs": [
    {
     "data": {
      "text/plain": [
       "neutral    20\n",
       "bear       14\n",
       "bull       13\n",
       "Name: signal, dtype: int64"
      ]
     },
     "execution_count": 9,
     "metadata": {},
     "output_type": "execute_result"
    }
   ],
   "source": [
    "rebalance_dates_signals['signal'].value_counts()"
   ]
  },
  {
   "cell_type": "markdown",
   "metadata": {},
   "source": [
    "#### Conclusion: we have 20 neutral, 14 bear, and 13 bull signals during algorithm rebalances."
   ]
  },
  {
   "cell_type": "markdown",
   "metadata": {},
   "source": [
    "## How should my portfolio be allocated during a long/short signal vs. a neutral position?\n",
    "Let's keep it simple and assume a neutral portfolio will be 50% ETH and 50% USD.  For a long (bull) signal, let's reallocate our portfolio to 75% ETH and 25% USD to capture the upwards price movement.  For a short (bear) signal, let's reallocate to 25% ETH and 75% USD to reduce downside.\n",
    "\n",
    "### If we remain neutral, should the algorithm still rebalance?\n",
    "This question comes up because you may not always need to rebalance a portfolio.  Sometimes, less trades are better.  For our backtests, let's add 5% of wiggle room before rebalancing.  This means a neutral portfolio would need to have at least a 5% difference between the market value of positions to trigger a rebalance.\n",
    "\n",
    "### How do I include fees?\n",
    "We'll be assuming a fee rate of 0.75% per trade applied to the buy side.  You will see how fees incorporated below."
   ]
  },
  {
   "cell_type": "markdown",
   "metadata": {},
   "source": [
    "## How do I compare a rebalanced portfolio to a non-rebalanced portfolio?\n",
    "First, we create a portfolio object to keep track of important parameters."
   ]
  },
  {
   "cell_type": "code",
   "execution_count": 10,
   "metadata": {},
   "outputs": [],
   "source": [
    "class Portfolio:\n",
    "    \n",
    "    trade_count = 0\n",
    "    initial_capital = 10000\n",
    "    wiggle_room = 0.05\n",
    "    fee_rate = 0.0075\n",
    "    allocations = {\n",
    "        'bull': [0.75, 0.25],\n",
    "        'neutral': [0.50, 0.50],\n",
    "        'bear': [0.25, 0.75]\n",
    "    }\n",
    "    \n",
    "    \n",
    "    def __init__(self, assets, start_prices):\n",
    "        \n",
    "        capital_each = self.initial_capital / len(assets)\n",
    "        units = capital_each / start_prices\n",
    "        self.units = units\n",
    "        self.start_units = units.copy()\n",
    "        \n",
    "        self.assets = assets\n",
    "        self.start_prices = start_prices\n",
    "        "
   ]
  },
  {
   "cell_type": "markdown",
   "metadata": {},
   "source": [
    "Next, we create a dataset using only the columns we need, and use ETH open price as the price on ETH for trades."
   ]
  },
  {
   "cell_type": "code",
   "execution_count": 11,
   "metadata": {},
   "outputs": [
    {
     "data": {
      "text/html": [
       "<div>\n",
       "<style scoped>\n",
       "    .dataframe tbody tr th:only-of-type {\n",
       "        vertical-align: middle;\n",
       "    }\n",
       "\n",
       "    .dataframe tbody tr th {\n",
       "        vertical-align: top;\n",
       "    }\n",
       "\n",
       "    .dataframe thead th {\n",
       "        text-align: right;\n",
       "    }\n",
       "</style>\n",
       "<table border=\"1\" class=\"dataframe\">\n",
       "  <thead>\n",
       "    <tr style=\"text-align: right;\">\n",
       "      <th></th>\n",
       "      <th>date</th>\n",
       "      <th>rebalance</th>\n",
       "      <th>signal</th>\n",
       "      <th>ETH</th>\n",
       "      <th>USD</th>\n",
       "    </tr>\n",
       "  </thead>\n",
       "  <tbody>\n",
       "    <tr>\n",
       "      <th>0</th>\n",
       "      <td>2019-01-01 00:00:00</td>\n",
       "      <td>False</td>\n",
       "      <td>neutral</td>\n",
       "      <td>132.74</td>\n",
       "      <td>1</td>\n",
       "    </tr>\n",
       "    <tr>\n",
       "      <th>1</th>\n",
       "      <td>2019-01-01 01:00:00</td>\n",
       "      <td>False</td>\n",
       "      <td>neutral</td>\n",
       "      <td>133.36</td>\n",
       "      <td>1</td>\n",
       "    </tr>\n",
       "    <tr>\n",
       "      <th>2</th>\n",
       "      <td>2019-01-01 02:00:00</td>\n",
       "      <td>False</td>\n",
       "      <td>neutral</td>\n",
       "      <td>133.56</td>\n",
       "      <td>1</td>\n",
       "    </tr>\n",
       "    <tr>\n",
       "      <th>3</th>\n",
       "      <td>2019-01-01 03:00:00</td>\n",
       "      <td>False</td>\n",
       "      <td>neutral</td>\n",
       "      <td>134.55</td>\n",
       "      <td>1</td>\n",
       "    </tr>\n",
       "    <tr>\n",
       "      <th>4</th>\n",
       "      <td>2019-01-01 04:00:00</td>\n",
       "      <td>False</td>\n",
       "      <td>neutral</td>\n",
       "      <td>133.72</td>\n",
       "      <td>1</td>\n",
       "    </tr>\n",
       "  </tbody>\n",
       "</table>\n",
       "</div>"
      ],
      "text/plain": [
       "                  date  rebalance   signal     ETH  USD\n",
       "0  2019-01-01 00:00:00      False  neutral  132.74    1\n",
       "1  2019-01-01 01:00:00      False  neutral  133.36    1\n",
       "2  2019-01-01 02:00:00      False  neutral  133.56    1\n",
       "3  2019-01-01 03:00:00      False  neutral  134.55    1\n",
       "4  2019-01-01 04:00:00      False  neutral  133.72    1"
      ]
     },
     "execution_count": 11,
     "metadata": {},
     "output_type": "execute_result"
    }
   ],
   "source": [
    "df = eth_1h[['date', 'rebalance', 'signal', 'open']].rename({'open': 'ETH'}, axis=1)\n",
    "\n",
    "# Add USD column and set to 1 as USD price stays constant at 1\n",
    "df['USD'] = 1\n",
    "\n",
    "# Save df to CSV to use in other backtests\n",
    "df.to_csv('../data/rebalance_signals.csv', index=False)\n",
    "\n",
    "df.head()"
   ]
  },
  {
   "cell_type": "markdown",
   "metadata": {},
   "source": [
    "After that we define the assets we're rebalancing and their starting price.  We can use that information to create our portfolio."
   ]
  },
  {
   "cell_type": "code",
   "execution_count": 12,
   "metadata": {},
   "outputs": [],
   "source": [
    "assets = ['ETH', 'USD']\n",
    "start_prices = df[assets].iloc[0]\n",
    "\n",
    "p = Portfolio(assets, start_prices)"
   ]
  },
  {
   "cell_type": "markdown",
   "metadata": {},
   "source": [
    "It's also important to keep a running total for portfolio market values, both rebalance and non-rebalanced.  We can use this dataframe later for algorithm comparison.\n"
   ]
  },
  {
   "cell_type": "code",
   "execution_count": 13,
   "metadata": {},
   "outputs": [],
   "source": [
    "running_totals = pd.DataFrame(columns=[\n",
    "    '50/50 ETH-USD: Without rebalancing',\n",
    "    '50/50 ETH-USD: With rebalancing',\n",
    "])"
   ]
  },
  {
   "cell_type": "markdown",
   "metadata": {},
   "source": [
    "Finally!  Now we can run the rebalancing simulation."
   ]
  },
  {
   "cell_type": "code",
   "execution_count": 14,
   "metadata": {},
   "outputs": [],
   "source": [
    "for _, row in df.iterrows():\n",
    "    \n",
    "    current_prices = row[assets]\n",
    "    \n",
    "    if row['rebalance']:\n",
    "        \n",
    "        # Calculate weighting based on current prices\n",
    "        dollar_values = p.units * current_prices\n",
    "        \n",
    "        weights_current = dollar_values / sum(dollar_values)\n",
    "        weights_preferred = p.allocations[row['signal']]\n",
    "        \n",
    "        # Calculate weight to trade from each side\n",
    "        trade_weights = (weights_preferred - weights_current) / 2\n",
    "        \n",
    "        # Make sure trade size is larger than our wiggle_room criteria\n",
    "        is_trade_actionable = sum(abs(weight) > p.wiggle_room for weight in trade_weights) == len(assets)\n",
    "        \n",
    "        if is_trade_actionable:\n",
    "            \n",
    "            trade_dollar_values = trade_weights * sum(dollar_values)\n",
    "            \n",
    "            trade_units = trade_dollar_values / current_prices\n",
    "            \n",
    "            # Reduce the units for the buy side by the fee rate\n",
    "            trade_units_after_slippage = [(1 - p.fee_rate)*t if t > 0 else t for t in trade_units]\n",
    "            \n",
    "            # Update porfolio units with added/subtracted units\n",
    "            p.units += trade_units_after_slippage\n",
    "            \n",
    "            # Update trade count\n",
    "            p.trade_count += 1\n",
    "\n",
    "            \n",
    "    # Update running totals\n",
    "    running_totals = running_totals.append({\n",
    "        '50/50 ETH-USD: Without rebalancing': sum(p.start_units * current_prices),\n",
    "        '50/50 ETH-USD: With rebalancing': sum(p.units * current_prices)\n",
    "    }, ignore_index=True)"
   ]
  },
  {
   "cell_type": "markdown",
   "metadata": {},
   "source": [
    "## How do I compare a rebalanced portfolio to a non-rebalanced portfolio?\n",
    "Since we kept a running total of the non-rebalanced and rebalanced portfolio, we can use that data to chart performance.  We can also see the total number of trades."
   ]
  },
  {
   "cell_type": "code",
   "execution_count": 15,
   "metadata": {},
   "outputs": [
    {
     "name": "stdout",
     "output_type": "stream",
     "text": [
      "50/50 ETH-USD: Without rebalancing    10731.0\n",
      "50/50 ETH-USD: With rebalancing       11768.0\n",
      "Name: 7939, dtype: float64\n",
      "Total trades: 34\n",
      "\n"
     ]
    }
   ],
   "source": [
    "print(round(running_totals.iloc[-1]))\n",
    "print(f'Total trades: {p.trade_count}\\n')"
   ]
  },
  {
   "cell_type": "code",
   "execution_count": 16,
   "metadata": {},
   "outputs": [
    {
     "data": {
      "image/png": "[encoded data removed]",
      "text/plain": [
       "<Figure size 1080x720 with 1 Axes>"
      ]
     },
     "metadata": {
      "needs_background": "light"
     },
     "output_type": "display_data"
    }
   ],
   "source": [
    "import matplotlib.pyplot as plt\n",
    "\n",
    "# Set dates as index for running totals\n",
    "running_totals.index = pd.DatetimeIndex(df['date'])\n",
    "\n",
    "\n",
    "fig, ax = plt.subplots(figsize=(15, 10))\n",
    "ax.plot(running_totals)\n",
    "\n",
    "ax.legend(running_totals.columns, loc='upper right', fontsize=14)\n",
    "ax.set_ylabel('Portfolio Value ($)', fontsize=16)\n",
    "ax.set_xlabel('Date', fontsize=16)\n",
    "ax.set_title('Backtest Results', fontsize=20)\n",
    "\n",
    "plt.show()"
   ]
  },
  {
   "cell_type": "code",
   "execution_count": 17,
   "metadata": {},
   "outputs": [
    {
     "data": {
      "image/png": "[encoded data removed]",
      "text/plain": [
       "<Figure size 1080x720 with 1 Axes>"
      ]
     },
     "metadata": {
      "needs_background": "light"
     },
     "output_type": "display_data"
    }
   ],
   "source": [
    "col1, col2 = running_totals.columns[:2]\n",
    "running_totals['Performance against benchmark'] = (running_totals[col2] - running_totals[col1]) / running_totals[col1]\n",
    "\n",
    "fig, ax = plt.subplots(figsize=(15, 10))\n",
    "ax.plot(running_totals.drop(running_totals.columns[:2], axis=1))\n",
    "\n",
    "ax.set_xlabel('Date', fontsize=16)\n",
    "ax.set_title('Performance against benchmark', fontsize=20)\n",
    "\n",
    "plt.show()\n"
   ]
  },
  {
   "cell_type": "markdown",
   "metadata": {},
   "source": [
    "## Conclusion\n",
    "I hope this analysis provides some basic clarity on the logic involved with backtests.  Some caveats to notice when running your own backtests:\n",
    "* This model does not account for overfitting or underfitting.\n",
    "    * This model is based on the sole performance of 11 months of price discovery and 34 trades.  Accurate backtests should have enough data for several hundred or thousand trades to improve accuracy and account for all types of price movement.\n",
    "    * Price movement in datasets should include several bullish, bearish, and sideways trends.\n",
    "    * The more data the better!\n",
    "* Trading on a live market is not the same as trading on static historical prices.\n",
    "* Slippage based on order size is not factored in.\n",
    "* Models are dynamic and the best model today may not be the best model tomorrow."
   ]
  }
 ],
 "metadata": {
  "kernelspec": {
   "display_name": "Python 3",
   "language": "python",
   "name": "python3"
  },
  "language_info": {
   "codemirror_mode": {
    "name": "ipython",
    "version": 3
   },
   "file_extension": ".py",
   "mimetype": "text/x-python",
   "name": "python",
   "nbconvert_exporter": "python",
   "pygments_lexer": "ipython3",
   "version": "3.8.0"
  }
 },
 "nbformat": 4,
 "nbformat_minor": 4
}
